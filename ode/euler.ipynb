{
 "cells": [
  {
   "cell_type": "code",
   "execution_count": 14,
   "id": "02635819-3579-4806-9a46-d7accc176236",
   "metadata": {
    "tags": []
   },
   "outputs": [],
   "source": [
    "import numpy as np\n",
    "import matplotlib.pyplot as plt"
   ]
  },
  {
   "cell_type": "code",
   "execution_count": 38,
   "id": "d445a317-f0ff-4527-9849-2e3ba310629c",
   "metadata": {
    "tags": []
   },
   "outputs": [],
   "source": [
    "def euler(f, x0, y0, h, n):\n",
    "    \"\"\"\n",
    "    y_k ~ y(x_k)\n",
    "    \"\"\"\n",
    "    x = [x0 + i * h for i in range(n + 1)]\n",
    "    y = [y0]\n",
    "    for k in range(n):\n",
    "        yk = y[k] + f(x[k], y[k]) * h\n",
    "        y.append(yk)\n",
    "    return x, y\n",
    "\n",
    "def euler_mid(f, x0, y0, h, n):\n",
    "    x = [x0 + i * h for i in range(n + 1)]\n",
    "    y = [y0]\n",
    "    for k in range(n):\n",
    "        m1 = f(x[k], y[k]) \n",
    "        m2 = f(x[k] + h / 2, y[k] + m1 * h / 2)\n",
    "        yk = y[k] + m2 * h\n",
    "        y.append(yk)\n",
    "    return x, y\n",
    "\n",
    "def heun(f, x0, y0, h, n):\n",
    "    x = [x0 + i * h for i in range(n + 1)]\n",
    "    y = [y0]\n",
    "    for k in range(n):\n",
    "        m1 = f(x[k], y[k])\n",
    "        m2 = f(x[k] + h, y[k] + m1 * h)\n",
    "        yk = y[k] + (m1 + m2) * h / 2\n",
    "        y.append(yk)\n",
    "    return x, y\n",
    "\n",
    "def ralston(f, x0, y0, h, n):\n",
    "    x = [x0 + i * h for i in range(n + 1)]\n",
    "    y = [y0]\n",
    "    for k in range(n):\n",
    "        m1 = f(x[k], y[k])\n",
    "        m2 = f(x[k] + (3/4) * h, y[k] + m1 * (3/4) * h)\n",
    "        yk = y[k] + (m1 + 2 * m2) * h / 3\n",
    "        y.append(yk)\n",
    "    return x, y\n",
    "\n",
    "def RK2(c, f, x0, y0, h, n):\n",
    "    x = [x0 + i * h for i in range(n + 1)]\n",
    "    y = [y0]\n",
    "    for k in range(n):\n",
    "        ???\n",
    "    return x, y\n",
    "\n",
    "def RK3(f, x0, y0, h, n):\n",
    "    x = [x0 + i * h for i in range(n + 1)]\n",
    "    y = [y0]\n",
    "    for k in range(n):\n",
    "        m1 = f(x[k], y[k])\n",
    "        m2 = f(x[k] + h / 2, y[k] + m1 * h / 2)\n",
    "        m3 = f(x[k] + h, y[k] + (2 * m2 - m1) * h)\n",
    "        yk = y[k] + (m1 + 4 * m2 + m3) * h / 6\n",
    "        y.append(yk)\n",
    "    return x, y\n",
    "\n",
    "def RK4(f, x0, y0, h, n):\n",
    "    x = [x0 + i * h for i in range(n + 1)]\n",
    "    y = [y0]\n",
    "    for k in range(n):\n",
    "        m1 = f(x[k], y[k])\n",
    "        m2 = f(x[k] + h / 2, y[k] + m1 * h / 2)\n",
    "        m3 = f(x[k] + h / 2, y[k] + m2 * h / 2)\n",
    "        m4 = f(x[k] + h, y[k] + m3 * h)\n",
    "        yk = y[k] + (m1 + 2 * m2 + 2 * m3 + m4) * h / 6\n",
    "        y.append(yk)\n",
    "    return x, y"
   ]
  },
  {
   "cell_type": "code",
   "execution_count": 53,
   "id": "09ed50c9-10e0-41db-b00d-8a4bccf3f424",
   "metadata": {
    "tags": []
   },
   "outputs": [
    {
     "name": "stdout",
     "output_type": "stream",
     "text": [
      "81.64204943055556\n",
      "2.1977231334603307\n"
     ]
    },
    {
     "data": {
      "text/plain": [
       "<matplotlib.collections.PathCollection at 0x7fe9375cc8e0>"
      ]
     },
     "execution_count": 53,
     "metadata": {},
     "output_type": "execute_result"
    },
    {
     "data": {
      "image/png": "[encoded data removed]",
      "text/plain": [
       "<Figure size 640x480 with 1 Axes>"
      ]
     },
     "metadata": {},
     "output_type": "display_data"
    }
   ],
   "source": [
    "# exemplo 1\n",
    "# y'=y+x, y(1)=2 => x0 = 1, y0 = 2\n",
    "# solução algébrica: y(x) = -x + 4 e^(x - 1) - 1\n",
    "\n",
    "def f(x, y):\n",
    "    return y + x\n",
    "x0 = 1\n",
    "y0 = 2\n",
    "h = 0.5\n",
    "n = 10\n",
    "x, y = euler(f, x0, y0, h, n)\n",
    "x_mid, y_mid = euler_mid(f, x0, y0, h, n)\n",
    "x_h, y_h = heun(f, x0, y0, h, n)\n",
    "x_r, y_r = ralston(f, x0, y0, h, n)\n",
    "x_rk3, y_rk3 = RK3(f, x0, y0, h, n)\n",
    "x_rk4, y_rk4 = RK4(f, x0, y0, h, n)\n",
    "#print(x)\n",
    "#print(y)\n",
    "#print(x_mid)\n",
    "#print(y_mid)\n",
    "\n",
    "diff = sum(abs(a - b) for a, b in zip(y, y_rk4)) / n\n",
    "print(diff)\n",
    "\n",
    "# plotar o gráfico da solução algébrica\n",
    "def sol(x):\n",
    "    return -x + 4 * np.exp(x - 1) - 1\n",
    "\n",
    "partition = [x0 + i * h for i in range(n + 1)]\n",
    "sol_exact = [sol(xi) for xi in partition]\n",
    "diff_exact = sum(abs(a - b) for a, b in zip(y_rk4, sol_exact))\n",
    "print(diff_exact)\n",
    "\n",
    "t = np.linspace(x0, x0 + n * h, 200)\n",
    "st = [sol(ti) for ti in t]\n",
    "plt.plot(t, st, color=\"red\")\n",
    "plt.scatter(x, y, color=\"blue\")\n",
    "plt.scatter(x_mid, y_mid, color=\"magenta\")\n",
    "plt.scatter(x_h, y_h, color=\"orange\")\n",
    "plt.scatter(x_r, y_r, color=\"purple\")\n",
    "plt.scatter(x_rk3, y_rk3, color=\"green\")\n",
    "plt.scatter(x_rk4, y_rk4, color=\"mediumslateblue\")\n"
   ]
  },
  {
   "cell_type": "code",
   "execution_count": 60,
   "id": "0422aeaa-cbcb-4c17-bf13-0a89d4cae810",
   "metadata": {
    "tags": []
   },
   "outputs": [
    {
     "name": "stdout",
     "output_type": "stream",
     "text": [
      "0.005496393862143751\n"
     ]
    },
    {
     "data": {
      "text/plain": [
       "<matplotlib.collections.PathCollection at 0x7fe9373047f0>"
      ]
     },
     "execution_count": 60,
     "metadata": {},
     "output_type": "execute_result"
    },
    {
     "data": {
      "image/png": "[encoded data removed]",
      "text/plain": [
       "<Figure size 640x480 with 1 Axes>"
      ]
     },
     "metadata": {},
     "output_type": "display_data"
    }
   ],
   "source": [
    "# exemplo 2\n",
    "# y'=y^2+y+x, y(0)=1\n",
    "def f(x, y):\n",
    "    return -y + y / 10 + np.cos(x)\n",
    "x0 = 0\n",
    "y0 = 1\n",
    "h = 0.25\n",
    "n = 50\n",
    "\n",
    "x, y = euler(f, x0, y0, h, n)\n",
    "x_mid, y_mid = euler_mid(f, x0, y0, h, n)\n",
    "x_h, y_h = heun(f, x0, y0, h, n)\n",
    "x_r, y_r = ralston(f, x0, y0, h, n)\n",
    "x_rk3, y_rk3 = RK4(f, x0, y0, h, n)\n",
    "x_rk4, y_rk4 = RK4(f, x0, y0, h, n)\n",
    "\n",
    "diff = sum(abs(a - b) for a, b in zip(y_h, y_rk4)) / n\n",
    "print(diff)\n",
    "\n",
    "plt.scatter(x, y, color=\"blue\")\n",
    "plt.scatter(x_mid, y_mid, color=\"magenta\")\n",
    "plt.scatter(x_h, y_h, color=\"orange\")\n",
    "plt.scatter(x_r, y_r, color=\"pink\")\n",
    "plt.scatter(x_rk4, y_rk4, color=\"mediumslateblue\")"
   ]
  },
  {
   "cell_type": "code",
   "execution_count": 72,
   "id": "d23f2f82-a688-42ee-8425-83c9148cfded",
   "metadata": {},
   "outputs": [
    {
     "name": "stdout",
     "output_type": "stream",
     "text": [
      "16\n",
      "1348471.1702982045\n"
     ]
    }
   ],
   "source": [
    "k = 0.04634\n",
    "nu = 61670\n",
    "def f(t, P):\n",
    "    return k * P + nu\n",
    "t0 = 0\n",
    "P0 = 1227146\n",
    "h = 0.0625\n",
    "n = int((1 - 0) / h)\n",
    "print(n)\n",
    "x, y = euler_mid(f, t0, P0, h, n)\n",
    "print(y[-1])"
   ]
  },
  {
   "cell_type": "code",
   "execution_count": 73,
   "id": "4f336524-26b4-4611-b694-bef35bf4ebbb",
   "metadata": {
    "tags": []
   },
   "outputs": [
    {
     "name": "stdout",
     "output_type": "stream",
     "text": [
      "[5.7531610939726985, 5.6000056702902965, 5.453113321304258, 5.311980926071465, 5.176174915483475, 5.045317981295324, 4.91907892927344, 4.797164805556884, 4.67931469822981, 4.565294794516508, 4.454894393474318, 4.347922655776975, 4.244205929159169, 4.143585528514822, 4.045915878771337, 3.9510629499569276, 3.858902929650624, 3.769321089828494, 3.682210814082354, 3.5974727580514974, 3.5150141212153763, 3.434748012335456, 3.3565928940911816, 3.2804720950365858, 3.206313379065468, 3.1340485642302993, 3.0636131841009466, 2.994946185940895, 2.927989660872308, 2.862688601936931, 2.798990686568466, 2.7368460804981156, 2.676207260537641, 2.6170288540389017, 2.559267493127562, 2.5028816820613375, 2.4478316762776884, 2.394079371878681, 2.3415882044570804, 2.29032305630186, 2.240250171136765, 2.1913370756452455, 2.1435525071213894, 2.0968663466614257, 2.0512495573756406, 2.0066741271575186, 1.9631130155967886, 1.920540104666801, 1.8789301528551356, 1.8382587524402538, 1.7985022896469531, 1.7596379074399042, 1.7216434707380597, 1.6844975338536274, 1.6481793099779078, 1.612668642552896, 1.5779459783823817, 1.5439923423495616, 1.5107893136200807, 1.4783190032201188, 1.4465640328887515, 1.415507515112484, 1.385133034257673, 1.3554246287236134, 1.3263667740454608, 1.2979443668819477, 1.2701427098281033, 1.2429474969979564, 1.2163448003265418, 1.1903210565444757, 1.1648630547819687, 1.13995792476243, 1.1155931255488156, 1.0917564348086195, 1.0684359385659201, 1.0456200214111946, 1.0232973571417268, 1.0014568998073734, 0.9800878751382355, 0.9591797723324196, 0.9387223361835831, 0.9187055595293492, 0.8991196760029563, 0.8799551530716925, 0.8612026853467569, 0.8428531881501998, 0.8248977913255285, 0.8073278332794296, 0.79013485524286, 0.7733105957405024, 0.756846985258268, 0.7407361410991691, 0.7249703624184806, 0.7095421254296572, 0.6944440787729897, 0.6796690390394592, 0.6652099864426949, 0.6510600606323546, 0.6372125566426309, 0.6236609209699521]\n"
     ]
    }
   ],
   "source": [
    "a = 9.35463\n",
    "def f(x, y):\n",
    "    return -y / np.sqrt(a**2 - y**2)\n",
    "x0 = 1.60744\n",
    "y0 = 5.91317\n",
    "h = 0.20065\n",
    "n = 100\n",
    "\n",
    "x, y = heun(f, x0, y0, h, n)\n",
    "print(y[1:])"
   ]
  },
  {
   "cell_type": "code",
   "execution_count": 74,
   "id": "96db4218-a8eb-4184-9d57-a3fd3efc0c17",
   "metadata": {
    "tags": []
   },
   "outputs": [
    {
     "name": "stdout",
     "output_type": "stream",
     "text": [
      "[-0.21249897644594998, -0.3675351094803875, -0.45425146948637124, -0.4682840853113061, -0.41183729059903446, -0.29318057005347264, -0.1256382689715635, 0.07381544984007177, 0.2862147714573616, 0.4923564185420881, 0.6744917813803976, 0.817811802390104, 0.9116044267145302, 0.9499987678622539, 0.9322503678148845, 0.862564254811118, 0.7494931155463855, 0.604983327560511, 0.4431689857699235, 0.27903138681996426, 0.1270476643017575, -5.2624138691975686e-05, -0.09231921673098613, -0.1433208629418627, -0.15054207550666815, -0.11541838752514061, -0.04302410085095586, 0.05854373013834871, 0.17901681186588653, 0.30695696482609697, 0.43081258909710146, 0.5399351639856064, 0.6254686922859956, 0.6810402341311991, 0.7032004800934255, 0.6915876039033452, 0.6488131210292147, 0.5800928731004846, 0.49266747610080686, 0.39507290511287757, 0.29633214095161164, 0.20514236408859446, 0.12912905329442498, 0.07422912006404894, 0.04425098076154308, 0.040641718306065944, 0.06247193412208608, 0.10662933541099431, 0.16819425454441808, 0.24095563820260016, 0.3180157063307318, 0.3924261658380444, 0.45779879927440326, 0.5088381921853832, 0.5417536452332248, 0.554519921050128, 0.5469711410453825, 0.520727492976064, 0.47896906064093825, 0.4260837929908261, 0.3672263709195809, 0.3078307933809848, 0.25312153320606606, 0.20766612003752724, 0.17500635753505506, 0.15739674174435, 0.1556679147785521, 0.16922120102181923, 0.19614851346075146, 0.2334612135394976, 0.27740274624419725, 0.323813728146923, 0.3685150540502158, 0.40767463689294386, 0.43812645212553736, 0.4576162122527289, 0.46495563202832707, 0.460076098051765, 0.44398179576440594, 0.4186111451092988, 0.3866230040913815, 0.3511299074234344, 0.31540419199089065, 0.28258401325551824, 0.2554049909364944, 0.2359797633580245, 0.22564248408381432, 0.2248688054332704, 0.2332747879099084, 0.24969110355593843, 0.27230248209219293, 0.29883711251004313, 0.3267870620220226, 0.35363895363604675, 0.37709422602887105, 0.39526018776835115, 0.4067965216861127, 0.4110065194352897, 0.4078676704595095, 0.3980017919560137, 0.3825901697460899, 0.3632437349831283, 0.3418417640156807, 0.32035470700948393, 0.3006674031771608, 0.2844181388114506, 0.2728668876016711, 0.26680288832233295, 0.2664977920790873, 0.2717063281408442, 0.2817121859080507, 0.29541296141328277, 0.31143488784778384, 0.3282659008223328, 0.3443945248989424, 0.3584421493534898, 0.36927742691801735, 0.37610362614896176, 0.37851256855317356, 0.37650200731464994, 0.37045665296391866, 0.3610962237167869, 0.3493966251095625, 0.3364924273197891, 0.32357005985642906, 0.3117615109725282, 0.3020478127447661, 0.29518029788546535, 0.2916256815851056, 0.29153865033325643, 0.294763058016878, 0.30086027355774797, 0.3091609164527137, 0.3188343471192509, 0.32896899085736714, 0.3386559528109364, 0.3470684494577556, 0.3535303013463204, 0.3575680083290859, 0.3589426243567608, 0.3576595957551281, 0.3539567425352814, 0.3482724670085203, 0.3411979063010162, 0.3334179752734694, 0.32564698519480517, 0.31856472981514034, 0.3127586113248389, 0.3086765868260054, 0.3065945430183188]\n"
     ]
    }
   ],
   "source": [
    "def A(t):\n",
    "    return np.exp(-0.0514 * np.pi * t)\n",
    "\n",
    "def B(t):\n",
    "    return np.sin(2 * t - np.pi)\n",
    "\n",
    "def E(t):\n",
    "    return A(t) * B(t)\n",
    "\n",
    "def dE(t):\n",
    "    return A(t) * (-0.0514 * np.pi) * B(t) + np.cos(2 * t - np.pi) * 2 * A(t)\n",
    "\n",
    "def ddE(t):\n",
    "    left = A(t) * (-0.0514 * np.pi)**2 * B(t) + np.cos(2 * t - np.pi) * 2 * A(t) * (-0.0514 * np.pi)\n",
    "    right = -np.sin(2 * t - np.pi) * 4 * A(t) + np.cos(2 * t - np.pi) * 2 * A(t) * (-0.0514 * np.pi)\n",
    "    return left + right\n",
    "\n",
    "C = 0.3186\n",
    "R = 1.1156\n",
    "L = 1.6319\n",
    "\n",
    "def f(t, i):\n",
    "    return C * ddE(t) + (1 / R) * dE(t) + (1 / L) * E(t)\n",
    "\n",
    "t0 = 0\n",
    "i0 = 0\n",
    "h = 0.1498\n",
    "n = 150\n",
    "x, y = heun(f, t0, i0, h, n)\n",
    "print(y[1:])"
   ]
  },
  {
   "cell_type": "code",
   "execution_count": null,
   "id": "c7c24e90-999f-47e7-bd4a-02c38e854744",
   "metadata": {},
   "outputs": [],
   "source": []
  }
 ],
 "metadata": {
  "kernelspec": {
   "display_name": "Python 3 (ipykernel)",
   "language": "python",
   "name": "python3"
  },
  "language_info": {
   "codemirror_mode": {
    "name": "ipython",
    "version": 3
   },
   "file_extension": ".py",
   "mimetype": "text/x-python",
   "name": "python",
   "nbconvert_exporter": "python",
   "pygments_lexer": "ipython3",
   "version": "3.10.10"
  }
 },
 "nbformat": 4,
 "nbformat_minor": 5
}
