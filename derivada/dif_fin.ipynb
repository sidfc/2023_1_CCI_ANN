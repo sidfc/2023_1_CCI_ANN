{
 "cells": [
  {
   "cell_type": "markdown",
   "id": "16b8fbad-3fd2-47cd-87db-f15192a9b5ce",
   "metadata": {},
   "source": [
    "# Método das Diferenças Finitas"
   ]
  },
  {
   "cell_type": "code",
   "execution_count": 14,
   "id": "8b7a114e-bd7e-434c-83c4-087f04ef020d",
   "metadata": {
    "tags": []
   },
   "outputs": [
    {
     "name": "stdout",
     "output_type": "stream",
     "text": [
      "x=array([1.9999999 , 1.99999997, 2.00000003, 2.0000001 ])\n",
      "coeffs = array([ 1.12590005e+14, -1.12590014e+14, -1.12589989e+14,  1.12589997e+14])\n",
      "exato = 13.46698950015237\n",
      "approx = 13.5\n"
     ]
    }
   ],
   "source": [
    "import numpy as np\n",
    "\n",
    "def f(x):\n",
    "    return x ** x\n",
    "\n",
    "x0 = 2\n",
    "k = 2\n",
    "exato = 2 + 4 * (1 + np.log(2))**2\n",
    "\n",
    "delta = 0.0000001\n",
    "a = 2 - delta\n",
    "b = 2 + delta\n",
    "x = np.linspace(a, b, 4)\n",
    "print(f'{x=}')\n",
    "n = len(x)\n",
    "\n",
    "A = [[1, 1, 1, 1]]\n",
    "B = [0, 0, 2, 6 * 2]\n",
    "\n",
    "for i in range(1, n):\n",
    "    row = [xi ** i for xi in x]\n",
    "    A.append(row)\n",
    "\n",
    "coeffs = np.linalg.solve(A, B)\n",
    "\n",
    "print(f'{coeffs = }')\n",
    "\n",
    "approx = sum(ci * f(xi) for ci, xi in zip(coeffs, x))\n",
    "\n",
    "print(f'{exato = }')\n",
    "print(f'{approx = }')"
   ]
  },
  {
   "cell_type": "code",
   "execution_count": null,
   "id": "eaa15850-88f2-4894-a66f-3662f4e65baf",
   "metadata": {},
   "outputs": [],
   "source": []
  }
 ],
 "metadata": {
  "kernelspec": {
   "display_name": "Python 3 (ipykernel)",
   "language": "python",
   "name": "python3"
  },
  "language_info": {
   "codemirror_mode": {
    "name": "ipython",
    "version": 3
   },
   "file_extension": ".py",
   "mimetype": "text/x-python",
   "name": "python",
   "nbconvert_exporter": "python",
   "pygments_lexer": "ipython3",
   "version": "3.10.10"
  }
 },
 "nbformat": 4,
 "nbformat_minor": 5
}
