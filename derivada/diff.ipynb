{
 "cells": [
  {
   "cell_type": "markdown",
   "id": "b097a3c5-aa83-4748-9414-0df429b9ef2c",
   "metadata": {},
   "source": [
    "## Use a 1a fórmula para f'(x0) para aproximar f'(2) com f(x)=x^x e h=1, h=0.1, h=0.01, ..."
   ]
  },
  {
   "cell_type": "code",
   "execution_count": 17,
   "id": "ed2fc44c-f5d9-409c-a740-2ff575bb2cc4",
   "metadata": {
    "tags": []
   },
   "outputs": [
    {
     "name": "stdout",
     "output_type": "stream",
     "text": [
      "f'(2)=6.772588722239782\n",
      "f''(2)=13.46698950015237\n",
      "h = [1.0, 0.1, 0.01, 0.001, 0.0001]\n",
      "valores obtidos por F1\n",
      "approx = 23.0 e erro = 16.22741127776022\n",
      "approx = 7.496380917422423 e erro = 0.7237921951826412\n",
      "approx = 6.840402606367579 e erro = 0.06781388412779776\n",
      "approx = 6.7793269820422 e erro = 0.006738259802418156\n",
      "approx = 6.7732621193528075 e erro = 0.000673397113025942\n",
      "valores obtidos por F2\n",
      "approx = 3.0 e erro = 3.7725887222397816\n",
      "approx = 6.144296560815197 e erro = 0.6282921614245849\n",
      "approx = 6.705727336151535 e erro = 0.06686138608824699\n",
      "approx = 6.7658599871665 e erro = 0.0067287350732812\n",
      "approx = 6.771915420387131 e erro = 0.0006733018526503542\n",
      "valores obtidos por F3\n",
      "approx = 13.0 e erro = 6.227411277760218\n",
      "approx = 6.820338739118809 e erro = 0.04775001687902769\n",
      "approx = 6.773064971259557 e erro = 0.0004762490197753877\n",
      "approx = 6.77259348460435 e erro = 4.762364568478006e-06\n",
      "approx = 6.772588769869969 e erro = 4.763018779385675e-08\n",
      "valores obtidos por F4\n",
      "approx = 20.0 e erro = 6.533010499847631\n",
      "approx = 13.520843566072303 e erro = 0.0538540659199338\n",
      "approx = 13.467527021608916 e erro = 0.0005375214565468411\n",
      "approx = 13.466994875699356 e erro = 5.3755469870964134e-06\n",
      "approx = 13.466989656762962 e erro = 1.5661059293847757e-07\n"
     ]
    }
   ],
   "source": [
    "import numpy as np\n",
    "\n",
    "def f(x):\n",
    "    return x ** x\n",
    "\n",
    "def F1(f, x0, h):\n",
    "    # aproxima f'(x0) com erro O(h)\n",
    "    return (f(x0 + h) - f(x0)) / h\n",
    "\n",
    "def F2(f, x0, h):\n",
    "    # aproxima f'(x0) com erro O(h)\n",
    "    return (f(x0) - f(x0 - h)) / h\n",
    "\n",
    "def F3(f, x0, h):\n",
    "    # aproxima f'(x0) com erro O(h^2)\n",
    "    return (f(x0 + h) - f(x0 - h)) / (2 * h)\n",
    "\n",
    "def F4(f, x0, h):\n",
    "    # aproxima f''(x0) com erro O(h^2)\n",
    "    return (f(x0 - h) - 2 * f(x0) + f(x0 + h)) / h**2\n",
    "\n",
    "x0 = 2\n",
    "exact = 4 + np.log(16) # f'(2)\n",
    "exact2 = 2 + 4 * (1 + np.log(2))**2 # f''(2)\n",
    "print(f'f\\'({x0})={exact}')\n",
    "print(f'f\\'\\'({x0})={exact2}')\n",
    "\n",
    "h = [1 / 10 ** i for i in range(5)]\n",
    "print(f'{h = }')\n",
    "\n",
    "# Exercício 1\n",
    "print('valores obtidos por F1')\n",
    "for hi in h:\n",
    "    approx = F1(f, x0, hi)\n",
    "    print(f'{approx = } e erro = {abs(exact - approx)}')\n",
    "    \n",
    "print('valores obtidos por F2')\n",
    "for hi in h:\n",
    "    approx = F2(f, x0, hi)\n",
    "    print(f'{approx = } e erro = {abs(exact - approx)}')\n",
    "    \n",
    "print('valores obtidos por F3')\n",
    "for hi in h:\n",
    "    approx = F3(f, x0, hi)\n",
    "    print(f'{approx = } e erro = {abs(exact - approx)}')\n",
    "    \n",
    "print('valores obtidos por F4')\n",
    "for hi in h:\n",
    "    approx = F4(f, x0, hi)\n",
    "    print(f'{approx = } e erro = {abs(exact2 - approx)}')"
   ]
  },
  {
   "cell_type": "code",
   "execution_count": null,
   "id": "41461f9f-3171-4630-907e-c3b7e40e1797",
   "metadata": {},
   "outputs": [],
   "source": []
  }
 ],
 "metadata": {
  "kernelspec": {
   "display_name": "Python 3 (ipykernel)",
   "language": "python",
   "name": "python3"
  },
  "language_info": {
   "codemirror_mode": {
    "name": "ipython",
    "version": 3
   },
   "file_extension": ".py",
   "mimetype": "text/x-python",
   "name": "python",
   "nbconvert_exporter": "python",
   "pygments_lexer": "ipython3",
   "version": "3.10.10"
  }
 },
 "nbformat": 4,
 "nbformat_minor": 5
}
