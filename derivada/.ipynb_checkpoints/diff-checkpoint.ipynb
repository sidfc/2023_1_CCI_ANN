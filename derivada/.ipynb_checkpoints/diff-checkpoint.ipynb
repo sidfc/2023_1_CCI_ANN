{
 "cells": [
  {
   "cell_type": "markdown",
   "id": "b097a3c5-aa83-4748-9414-0df429b9ef2c",
   "metadata": {},
   "source": [
    "## Use a 1a fórmula para f'(x0) para aproximar f'(2) com f(x)=x^x e h=1, h=0.1, h=0.01, ..."
   ]
  },
  {
   "cell_type": "code",
   "execution_count": 10,
   "id": "ed2fc44c-f5d9-409c-a740-2ff575bb2cc4",
   "metadata": {
    "tags": []
   },
   "outputs": [
    {
     "name": "stdout",
     "output_type": "stream",
     "text": [
      "exact = 6.772588722239782\n",
      "h = [1.0, 0.1, 0.01, 0.001, 0.0001, 1e-05, 1e-06, 1e-07, 1e-08, 1e-09]\n",
      "approx = 23.0 e erro = 16.22741127776022\n",
      "approx = 7.496380917422423 e erro = 0.7237921951826412\n",
      "approx = 6.840402606367579 e erro = 0.06781388412779776\n",
      "approx = 6.7793269820422 e erro = 0.006738259802418156\n",
      "approx = 6.7732621193528075 e erro = 0.000673397113025942\n",
      "approx = 6.7726560577519015 e erro = 6.733551211990374e-05\n",
      "approx = 6.772595456894237 e erro = 6.734654455442524e-06\n",
      "approx = 6.772589387082917 e erro = 6.648431352118678e-07\n",
      "approx = 6.772588712067318 e erro = 1.0172463760227402e-08\n",
      "approx = 6.7725896002457375 e erro = 8.780059559398978e-07\n"
     ]
    }
   ],
   "source": [
    "import numpy as np\n",
    "\n",
    "def f(x):\n",
    "    return x ** x\n",
    "\n",
    "def F1(f, x0, h):\n",
    "    return (f(x0 + h) - f(x0)) / h\n",
    "\n",
    "exact = 4 + np.log(16)\n",
    "print(f'{exact = }')\n",
    "# Exercício 1\n",
    "x0 = 2\n",
    "h = [1 / 100 ** i for i in range(10)]\n",
    "print(f'{h = }')\n",
    "\n",
    "# valores obtidos por F1\n",
    "for hi in h:\n",
    "    approx = F1(f, x0, hi)\n",
    "    print(f'{approx = } e erro = {abs(exact - approx)}')"
   ]
  },
  {
   "cell_type": "code",
   "execution_count": null,
   "id": "41461f9f-3171-4630-907e-c3b7e40e1797",
   "metadata": {},
   "outputs": [],
   "source": []
  }
 ],
 "metadata": {
  "kernelspec": {
   "display_name": "Python 3 (ipykernel)",
   "language": "python",
   "name": "python3"
  },
  "language_info": {
   "codemirror_mode": {
    "name": "ipython",
    "version": 3
   },
   "file_extension": ".py",
   "mimetype": "text/x-python",
   "name": "python",
   "nbconvert_exporter": "python",
   "pygments_lexer": "ipython3",
   "version": "3.10.10"
  }
 },
 "nbformat": 4,
 "nbformat_minor": 5
}
