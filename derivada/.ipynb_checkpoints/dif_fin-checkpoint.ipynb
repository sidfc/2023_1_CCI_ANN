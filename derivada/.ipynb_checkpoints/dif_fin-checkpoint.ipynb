{
 "cells": [
  {
   "cell_type": "markdown",
   "id": "16b8fbad-3fd2-47cd-87db-f15192a9b5ce",
   "metadata": {},
   "source": [
    "# Método das Diferenças Finitas"
   ]
  },
  {
   "cell_type": "code",
   "execution_count": null,
   "id": "8b7a114e-bd7e-434c-83c4-087f04ef020d",
   "metadata": {},
   "outputs": [],
   "source": [
    "import numpy as np\n",
    "\n",
    "def f(x):\n",
    "    return x ** x\n",
    "\n",
    "x0 = 2\n",
    "k = 2\n",
    "exato = 2 + 4 * (1 + np.log(2))**2\n",
    "print(f'{exato = }')\n",
    "A = []\n",
    "B = []\n",
    "\n",
    "coeffs = np.linalg.solve(A, B)\n"
   ]
  }
 ],
 "metadata": {
  "kernelspec": {
   "display_name": "Python 3 (ipykernel)",
   "language": "python",
   "name": "python3"
  },
  "language_info": {
   "codemirror_mode": {
    "name": "ipython",
    "version": 3
   },
   "file_extension": ".py",
   "mimetype": "text/x-python",
   "name": "python",
   "nbconvert_exporter": "python",
   "pygments_lexer": "ipython3",
   "version": "3.10.10"
  }
 },
 "nbformat": 4,
 "nbformat_minor": 5
}
