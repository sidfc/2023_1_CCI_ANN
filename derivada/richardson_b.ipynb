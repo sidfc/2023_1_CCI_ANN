{
 "cells": [
  {
   "cell_type": "code",
   "execution_count": 68,
   "id": "be54e87e-7788-4b47-a9f9-518eca890df3",
   "metadata": {
    "tags": []
   },
   "outputs": [],
   "source": [
    "def richardson(col1, b: int=1):\n",
    "    n = len(col1)\n",
    "    for i in range(n - 1):\n",
    "        for j in range(n - 1 - i):\n",
    "            denom = 2 ** ((i + 1) * b) - 1\n",
    "            numer = (denom + 1) * col1[j + 1] - col1[j] \n",
    "            col1[j] = numer / denom\n",
    "    return col1[0]"
   ]
  },
  {
   "cell_type": "code",
   "execution_count": 77,
   "id": "a4d2d23e-50d1-4e01-98f6-ae44b7f57bfd",
   "metadata": {
    "tags": []
   },
   "outputs": [
    {
     "name": "stdout",
     "output_type": "stream",
     "text": [
      "[8.045000380938802, 7.0752111415136945, 6.847309450830593]\n"
     ]
    }
   ],
   "source": [
    "def f(x):\n",
    "    return x ** x\n",
    "\n",
    "x0 = 2\n",
    "\n",
    "def F(h):\n",
    "    return (f(x0 + h) - f(x0 - h)) / (2 * h)\n",
    "\n",
    "h = 0.5\n",
    "\n",
    "ordem = 6\n",
    "b = 2\n",
    "\n",
    "col1 = [F(h/2**i) for i in range(ordem // b)]\n",
    "print(col1)"
   ]
  },
  {
   "cell_type": "code",
   "execution_count": 78,
   "id": "829c58a7-9694-4bb0-a99d-bcfe00a91b55",
   "metadata": {
    "tags": []
   },
   "outputs": [
    {
     "name": "stdout",
     "output_type": "stream",
     "text": [
      "exact = 6.772588722239782\n",
      "approx = 6.772635164529398\n"
     ]
    }
   ],
   "source": [
    "import math\n",
    "exact = 4 + math.log(16)\n",
    "print(f'{exact = }')\n",
    "\n",
    "approx = richardson(col1, b=b)\n",
    "print(f'{approx = }')"
   ]
  },
  {
   "cell_type": "code",
   "execution_count": null,
   "id": "0fd61b82-a748-461d-8234-01d6c7048cb0",
   "metadata": {},
   "outputs": [],
   "source": []
  }
 ],
 "metadata": {
  "kernelspec": {
   "display_name": "Python 3 (ipykernel)",
   "language": "python",
   "name": "python3"
  },
  "language_info": {
   "codemirror_mode": {
    "name": "ipython",
    "version": 3
   },
   "file_extension": ".py",
   "mimetype": "text/x-python",
   "name": "python",
   "nbconvert_exporter": "python",
   "pygments_lexer": "ipython3",
   "version": "3.10.10"
  }
 },
 "nbformat": 4,
 "nbformat_minor": 5
}
