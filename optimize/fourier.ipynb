{
 "cells": [
  {
   "cell_type": "code",
   "execution_count": 6,
   "id": "d0f0cbdf-87cc-4e47-94f9-ec7d2aa0265a",
   "metadata": {
    "tags": []
   },
   "outputs": [],
   "source": [
    "import numpy as np"
   ]
  },
  {
   "cell_type": "code",
   "execution_count": 7,
   "id": "e8f22446-2c86-4236-923a-4fa019a1a497",
   "metadata": {
    "tags": []
   },
   "outputs": [],
   "source": [
    "def f(x):\n",
    "    return 1 if x < 0 else 2"
   ]
  },
  {
   "cell_type": "code",
   "execution_count": 8,
   "id": "42b76c9d-7f99-49f1-b254-b83c4ab94cd7",
   "metadata": {
    "tags": []
   },
   "outputs": [],
   "source": [
    "def trapz(f, a, b, n):\n",
    "    h = (b - a) / n\n",
    "    s = 0\n",
    "    for k in range(1, n):\n",
    "        xk = a + k * h\n",
    "        s += f(xk)\n",
    "    return (f(a) + 2 * s + f(b)) * h / 2"
   ]
  },
  {
   "cell_type": "code",
   "execution_count": 9,
   "id": "02cb9cd3-447b-4645-b65a-52d0cffe48ff",
   "metadata": {
    "tags": []
   },
   "outputs": [],
   "source": [
    "def a(k, f, n=200):\n",
    "    # calcula os coeficientes que multiplicam senos\n",
    "    def fk(x):\n",
    "        return f(x) * np.sin(k * x)\n",
    "    return trapz(fk, -np.pi, np.pi, n) / np.pi"
   ]
  },
  {
   "cell_type": "code",
   "execution_count": 10,
   "id": "baccf5d6-da8a-4c39-a002-4bde8041371a",
   "metadata": {
    "tags": []
   },
   "outputs": [],
   "source": [
    "def b(k, func, n=200):\n",
    "    # calcula os coeficientes que multiplicam cossenos\n",
    "    def fk(x):\n",
    "        return f(x) * np.cos(k * x)\n",
    "    return trapz(fk, -np.pi, np.pi, n) / np.pi"
   ]
  },
  {
   "cell_type": "code",
   "execution_count": 11,
   "id": "af633412-5565-46f4-9f16-ffc8fc4879c6",
   "metadata": {
    "tags": []
   },
   "outputs": [],
   "source": [
    "def c(f, n=200):\n",
    "    return trapz(f, -np.pi, np.pi, n) / (2 * np.pi)"
   ]
  },
  {
   "cell_type": "code",
   "execution_count": 12,
   "id": "be6865ca-b1cf-40c7-9743-68cb168e1e22",
   "metadata": {
    "tags": []
   },
   "outputs": [
    {
     "data": {
      "text/plain": [
       "1.5025000000000002"
      ]
     },
     "execution_count": 12,
     "metadata": {},
     "output_type": "execute_result"
    }
   ],
   "source": [
    "c(f)"
   ]
  },
  {
   "cell_type": "code",
   "execution_count": 13,
   "id": "e99b9968-4677-4a27-ad46-ba9fdccd6cdc",
   "metadata": {
    "tags": []
   },
   "outputs": [
    {
     "data": {
      "text/plain": [
       "0.6365674116287154"
      ]
     },
     "execution_count": 13,
     "metadata": {},
     "output_type": "execute_result"
    }
   ],
   "source": [
    "a(1, f)"
   ]
  },
  {
   "cell_type": "code",
   "execution_count": 15,
   "id": "879b67c3-7108-424f-a5b2-ef94cdc0d0b2",
   "metadata": {
    "tags": []
   },
   "outputs": [
    {
     "data": {
      "text/plain": [
       "0.004999999999999761"
      ]
     },
     "execution_count": 15,
     "metadata": {},
     "output_type": "execute_result"
    }
   ],
   "source": [
    "b(1,f)"
   ]
  },
  {
   "cell_type": "code",
   "execution_count": 17,
   "id": "a2daeabe-e8ea-4c00-b11f-c0c517529815",
   "metadata": {
    "tags": []
   },
   "outputs": [
    {
     "name": "stdout",
     "output_type": "stream",
     "text": [
      "1.5025000000000002 0.6365674116287154 0.004999999999999761 -6.756047252050046e-17 0.005000000000000192 0.2120494878968878 0.0049999999999996445 -1.3456583352868835e-16 0.005000000000000119\n"
     ]
    }
   ],
   "source": [
    "# os 9 primeiros termos\n",
    "# c, a1, b1, a2, b2, a3, b3, a4, b4\n",
    "print(c(f), a(1,f), b(1,f), a(2,f), b(2,f), a(3,f), b(3,f), a(4,f), b(4,f))"
   ]
  },
  {
   "cell_type": "code",
   "execution_count": 47,
   "id": "8e66a16a-93b0-4d40-9d95-78777afb309a",
   "metadata": {
    "tags": []
   },
   "outputs": [],
   "source": [
    "def fourier(x, f, num, n):\n",
    "    # num = número de termos considerados\n",
    "    # n = números de subintervalos em trapz\n",
    "    if num < 1:\n",
    "        raise ValueErros(\"num >= 1\")\n",
    "    index_senos = range(1, len(range(1, num, 2))+1)\n",
    "    index_cossenos = range(1, len(range(2, num, 2)) + 1)\n",
    "    soma_senos = sum(a(k, f, n) * np.sin(k*x) for k in index_senos)\n",
    "    soma_cossenos = sum(b(k, f, n) * np.cos(k*x) for k in index_cossenos)\n",
    "    return c(f) + soma_senos + soma_cossenos"
   ]
  },
  {
   "cell_type": "code",
   "execution_count": 54,
   "id": "5e4b5761-ffea-4c23-88e6-d246d1a8fc9e",
   "metadata": {
    "tags": []
   },
   "outputs": [],
   "source": [
    "def serie(x):\n",
    "    return fourier(x, f, num=100, n=200)"
   ]
  },
  {
   "cell_type": "code",
   "execution_count": 55,
   "id": "0b706e17-a405-495c-a85c-11478c3fde69",
   "metadata": {
    "tags": []
   },
   "outputs": [
    {
     "data": {
      "text/plain": [
       "[<matplotlib.lines.Line2D at 0x7fb68575d330>]"
      ]
     },
     "execution_count": 55,
     "metadata": {},
     "output_type": "execute_result"
    },
    {
     "data": {
      "image/png": "[encoded data removed]",
      "text/plain": [
       "<Figure size 640x480 with 1 Axes>"
      ]
     },
     "metadata": {},
     "output_type": "display_data"
    }
   ],
   "source": [
    "import matplotlib.pyplot as plt\n",
    "\n",
    "t = np.linspace(-np.pi, np.pi, 100)\n",
    "st = [serie(ti) for ti in t]\n",
    "\n",
    "plt.plot(t, st, color=\"red\")"
   ]
  },
  {
   "cell_type": "code",
   "execution_count": null,
   "id": "ca7e538c-bd75-453b-bdb0-6a27435d514d",
   "metadata": {},
   "outputs": [],
   "source": []
  }
 ],
 "metadata": {
  "kernelspec": {
   "display_name": "Python 3 (ipykernel)",
   "language": "python",
   "name": "python3"
  },
  "language_info": {
   "codemirror_mode": {
    "name": "ipython",
    "version": 3
   },
   "file_extension": ".py",
   "mimetype": "text/x-python",
   "name": "python",
   "nbconvert_exporter": "python",
   "pygments_lexer": "ipython3",
   "version": "3.10.10"
  }
 },
 "nbformat": 4,
 "nbformat_minor": 5
}
