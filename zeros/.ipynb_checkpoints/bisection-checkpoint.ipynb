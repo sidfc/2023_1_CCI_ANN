{
 "cells": [
  {
   "cell_type": "code",
   "execution_count": 9,
   "id": "cf0c273d-bc7e-46f5-8d4c-72b820a37095",
   "metadata": {
    "tags": []
   },
   "outputs": [],
   "source": [
    "def bisection(f, a, b, lista):\n",
    "    fa, fb = f(a), f(b)\n",
    "    if fa * fb >= 0:\n",
    "        print(\"Não é possível usar o teorema de bolzano para determinar se essa função possui uma raiz nesse intervalo. Escolha outro intervalo.\")\n",
    "    else:\n",
    "        n = max(lista)\n",
    "        for k in range(n):\n",
    "            m = 0.5 * (a + b)\n",
    "            if (k + 1) in lista:\n",
    "                print(f\"{m},\")\n",
    "            fm = f(m)\n",
    "            if fm == 0:\n",
    "                print(f\"Encontrei uma raiz em x_{k + 1}={m}\")\n",
    "                return\n",
    "            if fa * fm < 0:\n",
    "                b = m\n",
    "            else:\n",
    "                a = m\n",
    "                fa = fm"
   ]
  },
  {
   "cell_type": "code",
   "execution_count": 10,
   "id": "86ebbc1b-6cee-48c4-9d3b-8268ec3a3266",
   "metadata": {
    "tags": []
   },
   "outputs": [
    {
     "name": "stdout",
     "output_type": "stream",
     "text": [
      "-1.3515700000000002,\n",
      "-1.6418162500000002,\n",
      "-1.72647140625,\n"
     ]
    }
   ],
   "source": [
    "func = lambda x: x**2-3\n",
    "a = -2.12556\n",
    "b = -0.57758\n",
    "iterations = [1, 4, 7]\n",
    "bisection(func, a, b, iterations)"
   ]
  },
  {
   "cell_type": "code",
   "execution_count": 11,
   "id": "d43bc298-5074-48f0-a4fa-e5173f2f60df",
   "metadata": {
    "tags": []
   },
   "outputs": [],
   "source": [
    "import math\n",
    "\n",
    "def f(x):\n",
    "    return 1_000_000 * math.exp(x) + (537_142 / x) * (math.exp(x) - 1) - 1_863_961\n",
    "    a = 0.0001\n",
    "    b = 2\n",
    "    iterations = range(1, 21)"
   ]
  },
  {
   "cell_type": "code",
   "execution_count": 12,
   "id": "55792631-30a8-44cd-8916-6e4c7cdea4b2",
   "metadata": {
    "tags": []
   },
   "outputs": [
    {
     "ename": "TypeError",
     "evalue": "unsupported operand type(s) for *: 'NoneType' and 'NoneType'",
     "output_type": "error",
     "traceback": [
      "\u001b[0;31m---------------------------------------------------------------------------\u001b[0m",
      "\u001b[0;31mTypeError\u001b[0m                                 Traceback (most recent call last)",
      "Cell \u001b[0;32mIn[12], line 1\u001b[0m\n\u001b[0;32m----> 1\u001b[0m \u001b[43mbisection\u001b[49m\u001b[43m(\u001b[49m\u001b[43mf\u001b[49m\u001b[43m,\u001b[49m\u001b[43m \u001b[49m\u001b[43ma\u001b[49m\u001b[43m,\u001b[49m\u001b[43m \u001b[49m\u001b[43mb\u001b[49m\u001b[43m,\u001b[49m\u001b[43m \u001b[49m\u001b[43miterations\u001b[49m\u001b[43m)\u001b[49m\n",
      "Cell \u001b[0;32mIn[9], line 3\u001b[0m, in \u001b[0;36mbisection\u001b[0;34m(f, a, b, lista)\u001b[0m\n\u001b[1;32m      1\u001b[0m \u001b[38;5;28;01mdef\u001b[39;00m \u001b[38;5;21mbisection\u001b[39m(f, a, b, lista):\n\u001b[1;32m      2\u001b[0m     fa, fb \u001b[38;5;241m=\u001b[39m f(a), f(b)\n\u001b[0;32m----> 3\u001b[0m     \u001b[38;5;28;01mif\u001b[39;00m \u001b[43mfa\u001b[49m\u001b[43m \u001b[49m\u001b[38;5;241;43m*\u001b[39;49m\u001b[43m \u001b[49m\u001b[43mfb\u001b[49m \u001b[38;5;241m>\u001b[39m\u001b[38;5;241m=\u001b[39m \u001b[38;5;241m0\u001b[39m:\n\u001b[1;32m      4\u001b[0m         \u001b[38;5;28mprint\u001b[39m(\u001b[38;5;124m\"\u001b[39m\u001b[38;5;124mNão é possível usar o teorema de bolzano para determinar se essa função possui uma raiz nesse intervalo. Escolha outro intervalo.\u001b[39m\u001b[38;5;124m\"\u001b[39m)\n\u001b[1;32m      5\u001b[0m     \u001b[38;5;28;01melse\u001b[39;00m:\n",
      "\u001b[0;31mTypeError\u001b[0m: unsupported operand type(s) for *: 'NoneType' and 'NoneType'"
     ]
    }
   ],
   "source": [
    "bisection(f, a, b, iterations)"
   ]
  },
  {
   "cell_type": "code",
   "execution_count": null,
   "id": "05d2081a-e225-4fa7-b85c-34f191fe2254",
   "metadata": {},
   "outputs": [],
   "source": []
  }
 ],
 "metadata": {
  "kernelspec": {
   "display_name": "Python 3 (ipykernel)",
   "language": "python",
   "name": "python3"
  },
  "language_info": {
   "codemirror_mode": {
    "name": "ipython",
    "version": 3
   },
   "file_extension": ".py",
   "mimetype": "text/x-python",
   "name": "python",
   "nbconvert_exporter": "python",
   "pygments_lexer": "ipython3",
   "version": "3.10.8"
  }
 },
 "nbformat": 4,
 "nbformat_minor": 5
}
