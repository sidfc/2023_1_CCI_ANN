{
 "cells": [
  {
   "cell_type": "code",
   "execution_count": 9,
   "id": "cf0c273d-bc7e-46f5-8d4c-72b820a37095",
   "metadata": {
    "tags": []
   },
   "outputs": [],
   "source": [
    "def bisection(f, a, b, lista):\n",
    "    fa, fb = f(a), f(b)\n",
    "    if fa * fb >= 0:\n",
    "        print(\"Não é possível usar o teorema de bolzano para determinar se essa função possui uma raiz nesse intervalo. Escolha outro intervalo.\")\n",
    "    else:\n",
    "        n = max(lista)\n",
    "        for k in range(n):\n",
    "            m = 0.5 * (a + b)\n",
    "            if (k + 1) in lista:\n",
    "                print(f\"{m},\")\n",
    "            fm = f(m)\n",
    "            if fm == 0:\n",
    "                print(f\"Encontrei uma raiz em x_{k + 1}={m}\")\n",
    "                return\n",
    "            if fa * fm < 0:\n",
    "                b = m\n",
    "            else:\n",
    "                a = m\n",
    "                fa = fm"
   ]
  },
  {
   "cell_type": "code",
   "execution_count": 10,
   "id": "86ebbc1b-6cee-48c4-9d3b-8268ec3a3266",
   "metadata": {
    "tags": []
   },
   "outputs": [
    {
     "name": "stdout",
     "output_type": "stream",
     "text": [
      "-1.3515700000000002,\n",
      "-1.6418162500000002,\n",
      "-1.72647140625,\n"
     ]
    }
   ],
   "source": [
    "func = lambda x: x**2-3\n",
    "a = -2.12556\n",
    "b = -0.57758\n",
    "iterations = [1, 4, 7]\n",
    "bisection(func, a, b, iterations)"
   ]
  },
  {
   "cell_type": "code",
   "execution_count": 13,
   "id": "d43bc298-5074-48f0-a4fa-e5173f2f60df",
   "metadata": {
    "tags": []
   },
   "outputs": [],
   "source": [
    "import math\n",
    "\n",
    "def f(x):\n",
    "    return 1_000_000 * math.exp(x) + (537_142 / x) * (math.exp(x) - 1) - 1_863_961\n",
    "\n",
    "a = 0.0001\n",
    "b = 2\n",
    "iterations = range(1, 21)"
   ]
  },
  {
   "cell_type": "code",
   "execution_count": 14,
   "id": "55792631-30a8-44cd-8916-6e4c7cdea4b2",
   "metadata": {
    "tags": []
   },
   "outputs": [
    {
     "name": "stdout",
     "output_type": "stream",
     "text": [
      "1.00005,\n",
      "0.500075,\n",
      "0.2500875,\n",
      "0.12509375,\n",
      "0.187590625,\n",
      "0.21883906250000001,\n",
      "0.23446328125000002,\n",
      "0.226651171875,\n",
      "0.2305572265625,\n",
      "0.23251025390625002,\n",
      "0.231533740234375,\n",
      "0.2310454833984375,\n",
      "0.23080135498046875,\n",
      "0.23092341918945314,\n",
      "0.23086238708496093,\n",
      "0.23089290313720703,\n",
      "0.23090816116333007,\n",
      "0.23090053215026857,\n",
      "0.23090434665679932,\n",
      "0.2309062539100647,\n"
     ]
    }
   ],
   "source": [
    "bisection(f, a, b, iterations)"
   ]
  },
  {
   "cell_type": "code",
   "execution_count": null,
   "id": "05d2081a-e225-4fa7-b85c-34f191fe2254",
   "metadata": {},
   "outputs": [],
   "source": []
  }
 ],
 "metadata": {
  "kernelspec": {
   "display_name": "Python 3 (ipykernel)",
   "language": "python",
   "name": "python3"
  },
  "language_info": {
   "codemirror_mode": {
    "name": "ipython",
    "version": 3
   },
   "file_extension": ".py",
   "mimetype": "text/x-python",
   "name": "python",
   "nbconvert_exporter": "python",
   "pygments_lexer": "ipython3",
   "version": "3.10.8"
  }
 },
 "nbformat": 4,
 "nbformat_minor": 5
}
