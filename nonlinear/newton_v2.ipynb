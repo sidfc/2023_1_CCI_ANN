{
 "cells": [
  {
   "cell_type": "markdown",
   "id": "c0189d63-3157-4cde-be3a-8eab3acd7f43",
   "metadata": {},
   "source": [
    "## Exemplo"
   ]
  },
  {
   "cell_type": "markdown",
   "id": "31a272a9-bba8-46eb-bc8f-c12e248394d1",
   "metadata": {},
   "source": [
    "y-x^2=1\n",
    "\n",
    "x^2+y^2=5\n",
    "\n",
    "solução S=(1,2)\n",
    "\n",
    "F(x,y)=(y-x^2-1,x^2+y^2-5)"
   ]
  },
  {
   "cell_type": "code",
   "execution_count": 5,
   "id": "9c072f50-6d7a-4ce1-affa-3aca3dda9872",
   "metadata": {
    "tags": []
   },
   "outputs": [],
   "source": [
    "def f1(x,y):\n",
    "    return y-x**2-1\n",
    "\n",
    "def f2(x,y):\n",
    "    return x**2+y**2-5\n",
    "\n",
    "def f1x(x,y):\n",
    "    return -2 * x\n",
    "\n",
    "def f1y(x,y):\n",
    "    return 1\n",
    "\n",
    "def f2x(x,y):\n",
    "    return 2 * x\n",
    "\n",
    "def f2y(x,y):\n",
    "    return 2 * y\n",
    "\n",
    "\n",
    "def det(a, b, c, d):\n",
    "    return a * d - b * c"
   ]
  },
  {
   "cell_type": "code",
   "execution_count": 7,
   "id": "0b9e414c-7f6c-4186-a54b-9d4caa4c5fa0",
   "metadata": {
    "tags": []
   },
   "outputs": [
    {
     "name": "stdout",
     "output_type": "stream",
     "text": [
      "x^(1)=1.2857142857142858\ty^(1)=2.142857142857143\n",
      "x^(2)=1.0332475332475333\ty^(2)=2.003861003861004\n",
      "x^(3)=1.000536355183079\ty^(3)=2.0000029768726764\n",
      "x^(4)=1.00000014376222\ty^(4)=2.0000000000017724\n",
      "x^(5)=1.0000000000000104\ty^(5)=2.0\n"
     ]
    }
   ],
   "source": [
    "# n = número de iterações\n",
    "# x0, y0 = coordenadas da estimativa inicial\n",
    "n = 5\n",
    "x0, y0 = 2, 3\n",
    "for k in range(n):\n",
    "    a = f1x(x0, y0)\n",
    "    b = f1y(x0, y0)\n",
    "    c = f2x(x0, y0)\n",
    "    d = f2y(x0, y0)\n",
    "    detdF = det(a, b, c, d)\n",
    "    x1 = x0 - (1 / detdF) * (f2y(x0, y0) * f1(x0, y0) - f1y(x0,y0) * f2(x0,y0))\n",
    "    y1 = y0 - (1 / detdF) * (-f2x(x0, y0) * f1(x0, y0) + f1x(x0, y0) * f2(x0, y0))\n",
    "    print(f'x^({k + 1})={x1}\\ty^({k + 1})={y1}')\n",
    "    # atualização\n",
    "    x0 = x1\n",
    "    y0 = y1"
   ]
  },
  {
   "cell_type": "code",
   "execution_count": null,
   "id": "e6422220-82de-4d41-9e3c-8ec5e3010e9d",
   "metadata": {},
   "outputs": [],
   "source": []
  }
 ],
 "metadata": {
  "kernelspec": {
   "display_name": "Python 3 (ipykernel)",
   "language": "python",
   "name": "python3"
  },
  "language_info": {
   "codemirror_mode": {
    "name": "ipython",
    "version": 3
   },
   "file_extension": ".py",
   "mimetype": "text/x-python",
   "name": "python",
   "nbconvert_exporter": "python",
   "pygments_lexer": "ipython3",
   "version": "3.10.10"
  }
 },
 "nbformat": 4,
 "nbformat_minor": 5
}
