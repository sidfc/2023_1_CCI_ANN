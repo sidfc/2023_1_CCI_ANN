{
 "cells": [
  {
   "cell_type": "markdown",
   "id": "c04cae52-6358-4808-abe8-21ae84c5d8f5",
   "metadata": {},
   "source": [
    "# Polinômio Interpolador de Lagrange"
   ]
  },
  {
   "cell_type": "code",
   "execution_count": 5,
   "id": "1e3d40c9-5e94-47bf-b6a6-b581e2c5dc62",
   "metadata": {
    "tags": []
   },
   "outputs": [],
   "source": [
    "import numpy as np"
   ]
  },
  {
   "cell_type": "code",
   "execution_count": 6,
   "id": "6e12b42d-ab5a-426d-ad06-9e122427f357",
   "metadata": {
    "tags": []
   },
   "outputs": [],
   "source": [
    "def lagrange(x: list, y: list) -> list:\n",
    "    # a lista coeffs contém y_i / denom_i\n",
    "    # onde denom_i é o denominador de L_i\n",
    "    n = len(x)\n",
    "    coeffs = []\n",
    "    for i in range(n):\n",
    "        denom_i = np.prod([x[i] - x[j] for j in range(n) if j != i])\n",
    "        coeffs.append(y[i] / denom_i)\n",
    "    return coeffs"
   ]
  },
  {
   "cell_type": "code",
   "execution_count": 23,
   "id": "208b0505-e5b9-4130-85fb-30a2b520df23",
   "metadata": {
    "tags": []
   },
   "outputs": [],
   "source": [
    "def build_poly(x, coeffs):\n",
    "    n = len(x)\n",
    "    def poly(t):\n",
    "        comb = 0\n",
    "        for i in range(n):\n",
    "            numer = 1\n",
    "            for j in range(n):\n",
    "                if j != i:\n",
    "                    numer *= (t - x[j])\n",
    "            numer *= coeffs[i]\n",
    "            comb += numer\n",
    "        return comb\n",
    "    return poly"
   ]
  },
  {
   "cell_type": "markdown",
   "id": "45239fd1-7e97-4a55-ae0f-0a31b2336286",
   "metadata": {},
   "source": [
    "## Exemplo 1"
   ]
  },
  {
   "cell_type": "code",
   "execution_count": 20,
   "id": "19d10f28-fe12-4033-9e08-c64b314481b1",
   "metadata": {
    "tags": []
   },
   "outputs": [],
   "source": [
    "x = [0, 2, 4]\n",
    "y = [2, 1, 2]\n",
    "coeffs = lagrange(x, y)"
   ]
  },
  {
   "cell_type": "code",
   "execution_count": 24,
   "id": "46d13517-0262-4193-9671-66cfe6d65b69",
   "metadata": {
    "tags": []
   },
   "outputs": [],
   "source": [
    "p = build_poly(x, coeffs)"
   ]
  },
  {
   "cell_type": "code",
   "execution_count": 25,
   "id": "4014eb2c-c3ba-4335-8b22-8c064adef3cf",
   "metadata": {
    "tags": []
   },
   "outputs": [
    {
     "data": {
      "text/plain": [
       "(2.0, 1.0, 2.0)"
      ]
     },
     "execution_count": 25,
     "metadata": {},
     "output_type": "execute_result"
    }
   ],
   "source": [
    "p(0), p(2), p(4)"
   ]
  },
  {
   "cell_type": "markdown",
   "id": "3c0f7766-26aa-44dc-a60b-5352c1512746",
   "metadata": {},
   "source": [
    "## Exemplo 2"
   ]
  },
  {
   "cell_type": "code",
   "execution_count": 31,
   "id": "4d59db50-d23d-4670-b7a1-6422f31f7f88",
   "metadata": {
    "tags": []
   },
   "outputs": [],
   "source": [
    "n = 10\n",
    "# valores de x em [a,b] random\n",
    "a, b = -2, 2\n",
    "x = a + (b - a) * np.random.random(n)\n",
    "x.sort()\n",
    "# valores de y em [c, d] random\n",
    "c, d = 2, 10\n",
    "n = 10\n",
    "y = c + (d - a) * np.random.random(n)\n",
    "coeffs2 = lagrange(x, y)\n",
    "p2 = build_poly(x, coeffs2)"
   ]
  },
  {
   "cell_type": "markdown",
   "id": "fd3941c3-a82b-4e02-8629-a3d6bc3e6fe0",
   "metadata": {},
   "source": [
    "## Visualização"
   ]
  },
  {
   "cell_type": "code",
   "execution_count": 32,
   "id": "221364d8-6699-420f-a5f1-aae8adeb549d",
   "metadata": {
    "tags": []
   },
   "outputs": [
    {
     "data": {
      "text/plain": [
       "[<matplotlib.lines.Line2D at 0x7f4db39a6b00>]"
      ]
     },
     "execution_count": 32,
     "metadata": {},
     "output_type": "execute_result"
    },
    {
     "data": {
      "image/png": "[encoded data removed]",
      "text/plain": [
       "<Figure size 640x480 with 1 Axes>"
      ]
     },
     "metadata": {},
     "output_type": "display_data"
    }
   ],
   "source": [
    "import matplotlib.pyplot as plt\n",
    "\n",
    "plt.scatter(x, y)\n",
    "# gráfico do polinômio\n",
    "t = np.linspace(min(x), max(x), 200)\n",
    "pt = [p2(ti) for ti in t]\n",
    "plt.plot(t, pt)"
   ]
  },
  {
   "cell_type": "code",
   "execution_count": null,
   "id": "eb8bcacf-f40f-4231-a46d-65e94ff6e145",
   "metadata": {},
   "outputs": [],
   "source": []
  }
 ],
 "metadata": {
  "kernelspec": {
   "display_name": "Python 3 (ipykernel)",
   "language": "python",
   "name": "python3"
  },
  "language_info": {
   "codemirror_mode": {
    "name": "ipython",
    "version": 3
   },
   "file_extension": ".py",
   "mimetype": "text/x-python",
   "name": "python",
   "nbconvert_exporter": "python",
   "pygments_lexer": "ipython3",
   "version": "3.10.8"
  }
 },
 "nbformat": 4,
 "nbformat_minor": 5
}
