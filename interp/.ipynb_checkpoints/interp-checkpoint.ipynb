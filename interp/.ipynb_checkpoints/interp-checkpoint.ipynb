{
 "cells": [
  {
   "cell_type": "markdown",
   "id": "ad3d9a67-1353-49cc-adce-17a74484324c",
   "metadata": {},
   "source": [
    "# Polinômio interpolador\n",
    "## Como encontrar o polinômio interpolador usando sistemas lineares"
   ]
  },
  {
   "cell_type": "code",
   "execution_count": 21,
   "id": "f43f6ac1-292b-447e-aabf-7b5eb8dbaf2b",
   "metadata": {
    "tags": []
   },
   "outputs": [],
   "source": [
    "import numpy as np\n",
    "import matplotlib.pyplot as plt"
   ]
  },
  {
   "cell_type": "code",
   "execution_count": 17,
   "id": "df83aa1f-778b-4530-b612-ba4106f6afa9",
   "metadata": {
    "tags": []
   },
   "outputs": [],
   "source": [
    "def interpolate(x: list, y: list) -> list:\n",
    "    A = []\n",
    "    n = len(x)\n",
    "    for xi in x:\n",
    "        row = []\n",
    "        for deg in range(n):\n",
    "            if deg == 0:\n",
    "                row.append(1)\n",
    "            else:\n",
    "                row.append(xi ** deg)\n",
    "        A.append(row)\n",
    "    B = y\n",
    "    return np.linalg.solve(A, B)"
   ]
  },
  {
   "cell_type": "code",
   "execution_count": 18,
   "id": "ea07f1c4-e7d2-481d-989e-b1956109c5fa",
   "metadata": {
    "tags": []
   },
   "outputs": [],
   "source": [
    "def build_poly(coeffs):\n",
    "    \"\"\"\n",
    "    Constrói uma função a partir dos coeficientes\n",
    "    \"\"\"\n",
    "    def poly(x):\n",
    "        soma = coeffs[0]\n",
    "        soma += sum(ck * x**k for k, ck in enumerate(coeffs[1:],1))\n",
    "        return soma\n",
    "    return poly"
   ]
  },
  {
   "cell_type": "markdown",
   "id": "b1b4b481-b3cd-4127-a9fa-4aca88371486",
   "metadata": {},
   "source": [
    "## Exemplo 1\n",
    "pontos (0,2), (2,1), (4,2)<br/>\n",
    "coefs: a0 = 2, a1 = -1, a2 = 1/4"
   ]
  },
  {
   "cell_type": "code",
   "execution_count": 19,
   "id": "0f24bbcf-550e-4e7e-99ea-84ce18e1e1d1",
   "metadata": {
    "tags": []
   },
   "outputs": [
    {
     "name": "stdout",
     "output_type": "stream",
     "text": [
      "[ 2.   -1.    0.25]\n"
     ]
    }
   ],
   "source": [
    "x = [0, 2, 4]\n",
    "y = [2, 1, 2]\n",
    "coefs = interpolate(x, y)\n",
    "print(coefs)"
   ]
  },
  {
   "cell_type": "code",
   "execution_count": 20,
   "id": "e8a1995f-3396-4079-86ea-6493ab382182",
   "metadata": {
    "tags": []
   },
   "outputs": [],
   "source": [
    "p = build_poly(coefs)"
   ]
  },
  {
   "cell_type": "markdown",
   "id": "617cc9ab-7976-4f7a-9cfb-b5e952562f40",
   "metadata": {
    "tags": []
   },
   "source": [
    "## Gráfico do polinômio interpolador"
   ]
  },
  {
   "cell_type": "code",
   "execution_count": 27,
   "id": "c6ee6542-eb76-4a6f-a7a6-d4abe2deeff0",
   "metadata": {
    "tags": []
   },
   "outputs": [
    {
     "data": {
      "text/plain": [
       "[<matplotlib.lines.Line2D at 0x7f78cb8e7820>]"
      ]
     },
     "execution_count": 27,
     "metadata": {},
     "output_type": "execute_result"
    },
    {
     "data": {
      "image/png": "[encoded data removed]",
      "text/plain": [
       "<Figure size 640x480 with 1 Axes>"
      ]
     },
     "metadata": {},
     "output_type": "display_data"
    }
   ],
   "source": [
    "plt.scatter(x, y)\n",
    "# gráfico do polinômio\n",
    "t = np.linspace(min(x), max(x), 200)\n",
    "pt = [p(ti) for ti in t]\n",
    "plt.plot(t, pt)"
   ]
  },
  {
   "cell_type": "markdown",
   "id": "4fca0d7e-29c2-44c3-8bec-69fa5a15d2af",
   "metadata": {},
   "source": [
    "# Exemplo 2"
   ]
  },
  {
   "cell_type": "code",
   "execution_count": 30,
   "id": "5e628930-5d63-4a6e-8b40-6cd9becd0273",
   "metadata": {
    "tags": []
   },
   "outputs": [],
   "source": [
    "# valores de x em [a,b] random\n",
    "a, b = -2, 2\n",
    "n = 10\n",
    "x = a + (b - a) * np.random.random(n)\n",
    "x.sort()\n",
    "# valores de y em [c, d] random\n",
    "c, d = 2, 10\n",
    "n = 10\n",
    "y = c + (d - a) * np.random.random(n)"
   ]
  },
  {
   "cell_type": "code",
   "execution_count": 31,
   "id": "088bb321-250c-43f8-99e0-9e676f89edb8",
   "metadata": {
    "tags": []
   },
   "outputs": [
    {
     "data": {
      "text/plain": [
       "array([-1.95462225, -1.67631446, -1.58045436, -1.34954539, -1.31040658,\n",
       "        0.62026734,  0.63223547,  0.7905747 ,  1.38852287,  1.46009898])"
      ]
     },
     "execution_count": 31,
     "metadata": {},
     "output_type": "execute_result"
    }
   ],
   "source": [
    "x"
   ]
  },
  {
   "cell_type": "code",
   "execution_count": null,
   "id": "6d737dd6-02d7-4c0f-a3e5-c4b87441b8a6",
   "metadata": {},
   "outputs": [],
   "source": []
  }
 ],
 "metadata": {
  "kernelspec": {
   "display_name": "Python 3 (ipykernel)",
   "language": "python",
   "name": "python3"
  },
  "language_info": {
   "codemirror_mode": {
    "name": "ipython",
    "version": 3
   },
   "file_extension": ".py",
   "mimetype": "text/x-python",
   "name": "python",
   "nbconvert_exporter": "python",
   "pygments_lexer": "ipython3",
   "version": "3.10.8"
  }
 },
 "nbformat": 4,
 "nbformat_minor": 5
}
