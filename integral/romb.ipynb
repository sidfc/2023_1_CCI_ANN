{
 "cells": [
  {
   "cell_type": "code",
   "execution_count": 1,
   "id": "555c94d6-424b-4bde-a228-997443470ae3",
   "metadata": {
    "tags": []
   },
   "outputs": [],
   "source": [
    "import numpy as np"
   ]
  },
  {
   "cell_type": "code",
   "execution_count": 2,
   "id": "7ed2c0a5-bfb0-4a71-985e-84481ab7c889",
   "metadata": {
    "tags": []
   },
   "outputs": [],
   "source": [
    "def richardson(col1, b: int=1):\n",
    "    n = len(col1)\n",
    "    for i in range(n - 1):\n",
    "        for j in range(n - 1 - i):\n",
    "            denom = 2 ** ((i + 1) * b) - 1\n",
    "            numer = (denom + 1) * col1[j + 1] - col1[j] \n",
    "            col1[j] = numer / denom\n",
    "    return col1[0]"
   ]
  },
  {
   "cell_type": "code",
   "execution_count": 3,
   "id": "19918e33-9707-49ea-907c-6c66be2c54c3",
   "metadata": {
    "tags": []
   },
   "outputs": [],
   "source": [
    "def trapz(f, a, b, n):\n",
    "    h = (b - a) / n\n",
    "    s = 0\n",
    "    for k in range(1, n):\n",
    "        xk = a + k * h\n",
    "        s += f(xk)\n",
    "    return (f(a) + 2 * s + f(b)) * h / 2"
   ]
  },
  {
   "cell_type": "code",
   "execution_count": 17,
   "id": "7c17005d-2d05-42e2-b0db-5adeb2b412a6",
   "metadata": {
    "tags": []
   },
   "outputs": [],
   "source": [
    "def romberg1(col1):\n",
    "    \"\"\"\n",
    "    Use somente quando col1 for dada\n",
    "    \"\"\"\n",
    "    return richardson(col1, b=2)\n",
    "    \n",
    "def romberg2(f, a, b, h, ordem):\n",
    "    \"\"\"\n",
    "    Use quando a fórmula for dada\n",
    "    Suponha que você queira uma aproximação\n",
    "    com erro O(h^2m). Isso será dado pela \n",
    "    fórmula F_m que usa os valores\n",
    "    h, h/2, h/4, ..., h/2^(m-1)\n",
    "    \"\"\"\n",
    "    n = int((b - a) / h)\n",
    "    if ordem % 2:\n",
    "        raise ValueError('A ordem precisa ser um número par')\n",
    "    m = ordem // 2\n",
    "    col1 = [trapz(f, a, b, n * 2 ** i) for i in range(m)]\n",
    "    return richardson(col1, b=2)"
   ]
  },
  {
   "cell_type": "code",
   "execution_count": 19,
   "id": "fde7b872-3c1e-4a7e-bbba-8d1379fde761",
   "metadata": {
    "tags": []
   },
   "outputs": [
    {
     "name": "stdout",
     "output_type": "stream",
     "text": [
      "exact = 0.746824132812427\n",
      "approx = 0.7468241328124275\n",
      "error 5.551115123125783e-16\n"
     ]
    }
   ],
   "source": [
    "# Use o método de Romberg para obter uma aproximação\n",
    "# para a integral de e^(-x^2) de 0 a 1 com erro O(h^12), \n",
    "# usando h=0.125.\n",
    "approx = romberg2(\n",
    "    f=lambda x: np.exp(-x**2),\n",
    "    a=0,\n",
    "    b=1,\n",
    "    h=0.125,\n",
    "    ordem=12\n",
    ")\n",
    "exact = 0.74682413281242702539946\n",
    "\n",
    "print(f'{exact = }')\n",
    "print(f'{approx = }')\n",
    "print('error', abs(approx - exact))"
   ]
  },
  {
   "cell_type": "code",
   "execution_count": null,
   "id": "cf6f4f05-daaf-41d5-aaa8-08b66c42ffe5",
   "metadata": {},
   "outputs": [],
   "source": []
  }
 ],
 "metadata": {
  "kernelspec": {
   "display_name": "Python 3 (ipykernel)",
   "language": "python",
   "name": "python3"
  },
  "language_info": {
   "codemirror_mode": {
    "name": "ipython",
    "version": 3
   },
   "file_extension": ".py",
   "mimetype": "text/x-python",
   "name": "python",
   "nbconvert_exporter": "python",
   "pygments_lexer": "ipython3",
   "version": "3.10.10"
  }
 },
 "nbformat": 4,
 "nbformat_minor": 5
}
