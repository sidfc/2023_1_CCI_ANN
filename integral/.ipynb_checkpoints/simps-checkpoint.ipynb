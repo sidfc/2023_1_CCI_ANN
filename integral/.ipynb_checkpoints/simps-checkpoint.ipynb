{
 "cells": [
  {
   "cell_type": "code",
   "execution_count": null,
   "id": "fd313aa3-52da-4243-8610-2bf5e1493ddc",
   "metadata": {},
   "outputs": [],
   "source": [
    "# Regra de Simpson\n",
    "import numpy as np\n",
    "\n",
    "def f(x):\n",
    "    return np.exp(-x**2)\n",
    "a, b = 0, 1\n",
    "n = 10 # número de subintervalos\n",
    "\n",
    "def simps_v0(f, a, b, n):\n",
    "    \"\"\"\n",
    "    Versão em que as areas são calculadas individualmente\n",
    "    f: função\n",
    "    a, b: intervalo de integração\n",
    "    n: número de subintervalos na partição\n",
    "    \"\"\"\n",
    "    h = (b - a) / n\n",
    "    num_par = n // 2 # número de parábolas\n",
    "    soma = 0\n",
    "    for k in range(num_par):\n",
    "        x0 = a + (2 * k) * h\n",
    "        x1 = a + (2 * k + 1) * h\n",
    "        x2 = a + (2 * k + 2) * h\n",
    "        soma += (f(x0) + 4 * f(x1) + f(x2)) * h / 3\n",
    "    return soma\n",
    "\n",
    "def simps(f, a, b, n):\n",
    "    h = (b - a) / n\n",
    "    num_par = n // 2 # número de parábolas\n",
    "    soma_impar = 0 \n",
    "    soma_par = 0\n",
    "    for k in range(num_par):\n",
    "        xk = a + (2 * k + 1) * h\n",
    "        soma_impar += f(xk)\n",
    "        if k != num_par - 1:\n",
    "            xk = a + (2 * k + 2) * h\n",
    "            soma_par += f(xk)\n",
    "    return (f(a) + 4 * soma_impar + 2 * soma_par + f(b)) * h / 3"
   ]
  }
 ],
 "metadata": {
  "kernelspec": {
   "display_name": "Python 3 (ipykernel)",
   "language": "python",
   "name": "python3"
  },
  "language_info": {
   "codemirror_mode": {
    "name": "ipython",
    "version": 3
   },
   "file_extension": ".py",
   "mimetype": "text/x-python",
   "name": "python",
   "nbconvert_exporter": "python",
   "pygments_lexer": "ipython3",
   "version": "3.10.10"
  }
 },
 "nbformat": 4,
 "nbformat_minor": 5
}
