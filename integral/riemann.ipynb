{
 "cells": [
  {
   "cell_type": "code",
   "execution_count": 3,
   "id": "20d8b645-cedd-40fe-a669-d4c999db6521",
   "metadata": {
    "tags": []
   },
   "outputs": [],
   "source": [
    "import numpy as np"
   ]
  },
  {
   "cell_type": "code",
   "execution_count": 32,
   "id": "5de9d0c4-d625-43d5-b543-120ba023cce3",
   "metadata": {
    "tags": []
   },
   "outputs": [
    {
     "name": "stdout",
     "output_type": "stream",
     "text": [
      "exact = 0.904524237900272\n",
      "approx = 0.9068087018510768\n",
      "diff = 0.002284463950804727\n"
     ]
    }
   ],
   "source": [
    "# Exemplo 1 - Riemann\n",
    "def f(x):\n",
    "    return np.cos(-x**2)\n",
    "a, b = 0, 1\n",
    "# exact = 0.74682413281242702539946 # for exp(-x^2)\n",
    "exact = 0.90452423790027208147478836 # for cos(-x^2)\n",
    "\n",
    "n = 100\n",
    "h = (b - a) / n\n",
    "part = [a + k * h for k in range(n + 1)]\n",
    "x_star = [xi for xi in part[:-1]]\n",
    "\n",
    "# print(part)\n",
    "# print(x_star)\n",
    "\n",
    "def riemann(f, part, x_star):\n",
    "    soma = 0\n",
    "    n = len(x_star)\n",
    "    for i in range(n):\n",
    "        soma += (part[i + 1] - part[i]) * f(x_star[i])\n",
    "    return soma\n",
    "\n",
    "approx = riemann(f, part, x_star)\n",
    "print(f'{exact = }')\n",
    "print(f'{approx = }')\n",
    "print('diff =', abs(approx - exact)) "
   ]
  },
  {
   "cell_type": "code",
   "execution_count": null,
   "id": "0c41caaa-ebe3-4fb8-ba61-47a58f056e89",
   "metadata": {},
   "outputs": [],
   "source": []
  },
  {
   "cell_type": "code",
   "execution_count": null,
   "id": "988351c4-26e5-4382-9760-200432c87fb3",
   "metadata": {},
   "outputs": [],
   "source": []
  },
  {
   "cell_type": "code",
   "execution_count": null,
   "id": "c11fb157-426d-4ec9-87c0-dec243432225",
   "metadata": {},
   "outputs": [],
   "source": []
  }
 ],
 "metadata": {
  "kernelspec": {
   "display_name": "Python 3 (ipykernel)",
   "language": "python",
   "name": "python3"
  },
  "language_info": {
   "codemirror_mode": {
    "name": "ipython",
    "version": 3
   },
   "file_extension": ".py",
   "mimetype": "text/x-python",
   "name": "python",
   "nbconvert_exporter": "python",
   "pygments_lexer": "ipython3",
   "version": "3.10.10"
  }
 },
 "nbformat": 4,
 "nbformat_minor": 5
}
