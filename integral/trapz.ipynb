{
 "cells": [
  {
   "cell_type": "code",
   "execution_count": 3,
   "id": "0f8b274c-aaa0-4ec9-98d5-b3007fb1b03f",
   "metadata": {
    "tags": []
   },
   "outputs": [
    {
     "name": "stdout",
     "output_type": "stream",
     "text": [
      "exact = 0.746824132812427\n",
      "approx = 0.7462107961317495\n",
      "diff = 0.0006133366806775342\n"
     ]
    }
   ],
   "source": [
    "import numpy as np\n",
    "\n",
    "# Exemplo 1 - Regra dos Trapézios\n",
    "def f(x):\n",
    "    return np.exp(-x**2)\n",
    "a, b = 0, 1\n",
    "exact = 0.74682413281242702539946 # for exp(-x^2)\n",
    "# exact = 0.90452423790027208147478836 # for cos(-x^2)\n",
    "\n",
    "n = 10 # número de subintervalos na partição\n",
    "\n",
    "def trapz(f, a, b, n):\n",
    "    h = (b - a) / n\n",
    "    s = 0\n",
    "    for k in range(1, n):\n",
    "        xk = a + k * h\n",
    "        s += f(xk)\n",
    "    return (f(a) + 2 * s + f(b)) * h / 2\n",
    "\n",
    "approx = trapz(f, a, b, n)\n",
    "print(f'{exact = }')\n",
    "print(f'{approx = }')\n",
    "print('diff =', abs(approx - exact))    "
   ]
  },
  {
   "cell_type": "code",
   "execution_count": null,
   "id": "4c725e9e-a8aa-4bd8-a049-60a6e76e5318",
   "metadata": {},
   "outputs": [],
   "source": []
  },
  {
   "cell_type": "code",
   "execution_count": null,
   "id": "6d600edc-ebf0-41a1-8281-539068aeba10",
   "metadata": {},
   "outputs": [],
   "source": []
  },
  {
   "cell_type": "code",
   "execution_count": null,
   "id": "6ca4a571-a0b4-41f2-8d62-781e1f267196",
   "metadata": {},
   "outputs": [],
   "source": []
  }
 ],
 "metadata": {
  "kernelspec": {
   "display_name": "Python 3 (ipykernel)",
   "language": "python",
   "name": "python3"
  },
  "language_info": {
   "codemirror_mode": {
    "name": "ipython",
    "version": 3
   },
   "file_extension": ".py",
   "mimetype": "text/x-python",
   "name": "python",
   "nbconvert_exporter": "python",
   "pygments_lexer": "ipython3",
   "version": "3.10.10"
  }
 },
 "nbformat": 4,
 "nbformat_minor": 5
}
